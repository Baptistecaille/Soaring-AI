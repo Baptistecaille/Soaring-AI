{
 "cells": [
  {
   "cell_type": "code",
   "execution_count": 1,
   "id": "ec367d02",
   "metadata": {},
   "outputs": [],
   "source": [
    "import numpy as np\n",
    "import matplotlib.pyplot as plt\n",
    "import seaborn as sns\n",
    "import pandas as pd\n",
    "from sklearn.impute import KNNImputer\n",
    "import requests\n",
    "import os\n",
    "import datetime"
   ]
  },
  {
   "cell_type": "code",
   "execution_count": 101,
   "id": "70cf214c",
   "metadata": {},
   "outputs": [],
   "source": [
    "import io\n",
    "\n",
    "class labels:\n",
    "    def __init__(self, year:list, airport_file:str):\n",
    "        self.year = year\n",
    "        self.airport_file = airport_file\n",
    "        self.airport = pd.read_csv(airport_file)\n",
    "        self.selected_airports = None\n",
    "\n",
    "    def select_airports(self, airport_ids:list):\n",
    "        \"\"\"\n",
    "        Selects airports from the airport file based on given airport IDs.\n",
    "        \n",
    "        Args:\n",
    "            airport_ids (list): List of airport IDs to select.\n",
    "            \n",
    "        Returns:\n",
    "            pandas.DataFrame: DataFrame containing selected airports.\n",
    "        \"\"\"\n",
    "        # Filter the airport DataFrame based on the provided airport IDs\n",
    "        selected_airports = self.airport[self.airport['Id'].isin(airport_ids)]\n",
    "        self.selected_airports = selected_airports['Id'].tolist()\n",
    "        return self.selected_airports\n",
    "\n",
    "    def fetch_flights(self):\n",
    "        \"\"\"\n",
    "        Fetches the number of flights for given club IDs and year from the WeGlide API.\n",
    "            \n",
    "        Returns:\n",
    "            pandas.DataFrame: DataFrame containing flight information with unique flight IDs\n",
    "        \"\"\"\n",
    "        #Create an empty DataFrame to store flight data\n",
    "        flights = pd.DataFrame()\n",
    "        for year in self.year:\n",
    "            print(year)\n",
    "            for airport_id in self.selected_airports:\n",
    "                url = (\n",
    "                        f\"https://api.weglide.org/v1/flight?\"\n",
    "                        f\"season_in={year}&\"\n",
    "                        f\"airport_id_in={airport_id}&\"\n",
    "                        \"contest=free&\"\n",
    "                        \"order_by=-scoring_date&\"\n",
    "                        \"not_scored=false&\"\n",
    "                        \"story=false&\"\n",
    "                        \"valid=false&\"\n",
    "                        \"skip=0&\"\n",
    "                        \"limit=100&\"\n",
    "                        \"include_story=true&\"\n",
    "                        \"include_stats=false&\"\n",
    "                        \"format=csv\"\n",
    "                    )\n",
    "                    \n",
    "                response = requests.get(url)\n",
    "                # Convert the response content to a DataFrame\n",
    "                flight = pd.read_csv(io.StringIO(response.text))\n",
    "                # Keep only the column Distance Speed, Date, ID and add it to the flights DataFrame\n",
    "                flight = flight[['Distance', 'Speed', 'Date', 'ID']]\n",
    "                #add flight to flights DataFrame\n",
    "                flights = pd.concat([flights, flight], ignore_index=True)\n",
    "\n",
    "                \n",
    "        return flights\n",
    "\n",
    "    def normalize_date(self, flights):\n",
    "        \"\"\" \n",
    "        Normalize the date to YYYY-MM-DD_HH:MM:SS format.\n",
    "        Args:\n",
    "            flights (pandas.DataFrame): DataFrame containing flight information with unique flight IDs\n",
    "        Returns:\n",
    "            pandas.DataFrame: DataFrame with normalized dates\n",
    "        \"\"\"\n",
    "        # Convert the date column to datetime format with flexible parsing\n",
    "        flights['Date'] = pd.to_datetime(flights['Date'])\n",
    "        \n",
    "        # Check if time information exists in the dates\n",
    "        has_time = (flights['Date'].dt.hour != 0).any() or (flights['Date'].dt.minute != 0).any()\n",
    "        \n",
    "        # Normalize the date to appropriate format\n",
    "        if has_time:\n",
    "            flights['Date'] = flights['Date'].dt.strftime('%Y-%m-%d_%H:%M:%S')\n",
    "        else:\n",
    "            # If no time information, just add zeros for time\n",
    "            flights['Date'] = flights['Date'].dt.strftime('%Y-%m-%d_00:00:00')\n",
    "            \n",
    "        return flights\n",
    "\n",
    "    def is_flyable(self, flights):\n",
    "        \"\"\"\n",
    "            If there is at least 1 flight in the day and the distance is greater than 50 km, the day is considered flyable.\n",
    "            Args:\n",
    "                flights (pandas.DataFrame): DataFrame containing flight information with unique flight IDs\n",
    "            Returns:\n",
    "                pandas.DataFrame:\n",
    "        \"\"\"\n",
    "        # Make a copy of the flights DataFrame to avoid modifying the original\n",
    "        flights_copy = flights.copy()\n",
    "        \n",
    "        # Convert the 'Date' column to datetime format - replace underscore with space for parsing\n",
    "        flights_copy['Date'] = flights_copy['Date'].str.replace('_', ' ')\n",
    "        flights_copy['Date'] = pd.to_datetime(flights_copy['Date'])\n",
    "        \n",
    "        # Convert Distance from string with comma as decimal separator to float\n",
    "        flights_copy['Distance'] = flights_copy['Distance'].str.replace(',', '.').astype(float)\n",
    "        \n",
    "        # Create a new column 'Flyable' based on the conditions\n",
    "        flights_copy['Flyable'] = flights_copy.apply(lambda row: 1 if (row['Distance'] > 50) else 0, axis=1)\n",
    "        \n",
    "        # Group by date and sum the 'Flyable' column to get the number of flyable days\n",
    "        flights_per_day = flights_copy.groupby(flights_copy['Date'].dt.date).agg({'Flyable': 'sum'}).reset_index()\n",
    "        \n",
    "        # Keep the columns as Date and Flyable for consistency\n",
    "        flights_per_day.columns = ['Date', 'Flyable']\n",
    "        \n",
    "        return flights_per_day\n",
    "\n",
    "    def final_data(self, flights_per_day):\n",
    "        \"\"\"\n",
    "            Create a new Dataframe with all the dates included in the list self.year.\n",
    "            If a day corresponds to a date in flights_per_day, the number of flights is kept.\n",
    "            If not, the number of flights is set to 0.\n",
    "        \"\"\"\n",
    "        # Create a date range for the years in self.year\n",
    "        start_year = min(self.year)\n",
    "        end_year = max(self.year)\n",
    "        date_range = pd.date_range(start=f\"{start_year}-01-01\", end=f\"{end_year}-12-31\", freq='D')\n",
    "        \n",
    "        # Create a DataFrame with all the dates\n",
    "        all_dates_df = pd.DataFrame(date_range, columns=['Date'])\n",
    "        \n",
    "        # Convert to string format\n",
    "        all_dates_df['Date'] = all_dates_df['Date'].dt.strftime('%Y-%m-%d')\n",
    "        \n",
    "        # Ensure flights_per_day Date column is in the right format\n",
    "        flights_per_day_copy = flights_per_day.copy()\n",
    "        flights_per_day_copy['Date'] = pd.to_datetime(flights_per_day_copy['Date']).dt.strftime('%Y-%m-%d')\n",
    "        \n",
    "        # Merge with flights_per_day to get the flyable counts\n",
    "        final_df = pd.merge(all_dates_df, flights_per_day_copy, on='Date', how='left')\n",
    "        \n",
    "        # Fill NaN values with 0\n",
    "        final_df['Flyable'] = final_df['Flyable'].fillna(0).astype(int)\n",
    "        \n",
    "        return final_df\n",
    "            \n",
    "labels = labels(year=[2024,2023,2022,2021,2020,2019,2018], airport_file='/Users/baptistecaillerie/Documents/Soaring AI/data/airports.csv')\n"
   ]
  },
  {
   "cell_type": "code",
   "execution_count": 92,
   "id": "b2664b9a",
   "metadata": {},
   "outputs": [
    {
     "data": {
      "text/plain": [
       "[150181, 151558, 151405, 150993, 151237]"
      ]
     },
     "execution_count": 92,
     "metadata": {},
     "output_type": "execute_result"
    }
   ],
   "source": [
    "labels.select_airports(airport_ids=[150181,151558,151405,151237,150993])"
   ]
  },
  {
   "cell_type": "code",
   "execution_count": 93,
   "id": "3de63409",
   "metadata": {},
   "outputs": [
    {
     "name": "stdout",
     "output_type": "stream",
     "text": [
      "2024\n",
      "2023\n",
      "2022\n",
      "2021\n",
      "2020\n",
      "2019\n",
      "2018\n"
     ]
    },
    {
     "data": {
      "application/vnd.microsoft.datawrangler.viewer.v0+json": {
       "columns": [
        {
         "name": "index",
         "rawType": "int64",
         "type": "integer"
        },
        {
         "name": "Distance",
         "rawType": "object",
         "type": "string"
        },
        {
         "name": "Speed",
         "rawType": "object",
         "type": "string"
        },
        {
         "name": "Date",
         "rawType": "object",
         "type": "string"
        },
        {
         "name": "ID",
         "rawType": "object",
         "type": "unknown"
        }
       ],
       "conversionMethod": "pd.DataFrame",
       "ref": "14976b59-110d-4fe6-af90-572f59477fdf",
       "rows": [
        [
         "0",
         "101,43",
         "47,36",
         "2024-09-28_00:00:00",
         "484226"
        ],
        [
         "1",
         "74,69",
         "46,43",
         "2024-09-28_00:00:00",
         "484337"
        ],
        [
         "2",
         "146,57",
         "63,82",
         "2024-09-19_00:00:00",
         "481932"
        ],
        [
         "3",
         "50,21",
         "21,17",
         "2024-09-14_00:00:00",
         "480764"
        ],
        [
         "4",
         "58,7",
         "40,58",
         "2024-09-14_00:00:00",
         "480668"
        ],
        [
         "5",
         "23,04",
         "45,37",
         "2024-09-14_00:00:00",
         "480627"
        ],
        [
         "6",
         "15,14",
         "43,12",
         "2024-09-14_00:00:00",
         "480630"
        ],
        [
         "7",
         "9,04",
         "57,09",
         "2024-09-14_00:00:00",
         "480628"
        ],
        [
         "8",
         "8,26",
         "53,87",
         "2024-09-14_00:00:00",
         "480631"
        ],
        [
         "9",
         "406,97",
         "76,01",
         "2024-09-13_00:00:00",
         "480114"
        ],
        [
         "10",
         "404,86",
         "73,16",
         "2024-09-13_00:00:00",
         "480144"
        ],
        [
         "11",
         "326,55",
         "71,31",
         "2024-09-13_00:00:00",
         "480134"
        ],
        [
         "12",
         "11,67",
         "77,23",
         "2024-09-07_00:00:00",
         "480058"
        ],
        [
         "13",
         "7,52",
         "64,46",
         "2024-09-07_00:00:00",
         "480052"
        ],
        [
         "14",
         "7,3",
         "54,07",
         "2024-09-07_00:00:00",
         "480059"
        ],
        [
         "15",
         "7,19",
         "53,59",
         "2024-09-07_00:00:00",
         "478640"
        ],
        [
         "16",
         "7,12",
         "46,1",
         "2024-09-07_00:00:00",
         "478245"
        ],
        [
         "17",
         "7,65",
         "22,0",
         "2024-08-31_00:00:00",
         "476216"
        ],
        [
         "18",
         "5,79",
         "58,55",
         "2024-08-31_00:00:00",
         "476218"
        ],
        [
         "19",
         "4,62",
         "56,76",
         "2024-08-31_00:00:00",
         "476217"
        ],
        [
         "20",
         "13,29",
         "34,54",
         "2024-08-27_00:00:00",
         "474177"
        ],
        [
         "21",
         "10,43",
         "25,58",
         "2024-08-27_00:00:00",
         "474179"
        ],
        [
         "22",
         "5,42",
         "69,94",
         "2024-08-27_00:00:00",
         "474178"
        ],
        [
         "23",
         "57,56",
         "44,79",
         "2024-08-26_00:00:00",
         "473601"
        ],
        [
         "24",
         "43,03",
         "50,08",
         "2024-08-26_00:00:00",
         "473600"
        ],
        [
         "25",
         "701,25",
         "96,09",
         "2024-08-25_00:00:00",
         "472905"
        ],
        [
         "26",
         "535,94",
         "89,86",
         "2024-08-25_00:00:00",
         "473066"
        ],
        [
         "27",
         "498,67",
         "75,93",
         "2024-08-25_00:00:00",
         "472922"
        ],
        [
         "28",
         "221,73",
         "58,08",
         "2024-08-25_00:00:00",
         "473596"
        ],
        [
         "29",
         "80,1",
         "43,41",
         "2024-08-23_00:00:00",
         "478762"
        ],
        [
         "30",
         "50,76",
         "30,33",
         "2024-08-23_00:00:00",
         "471107"
        ],
        [
         "31",
         "36,03",
         "31,43",
         "2024-08-23_00:00:00",
         "471448"
        ],
        [
         "32",
         "12,37",
         "56,44",
         "2024-08-23_00:00:00",
         "471447"
        ],
        [
         "33",
         "34,96",
         "21,89",
         "2024-08-22_00:00:00",
         "470744"
        ],
        [
         "34",
         "34,08",
         "37,52",
         "2024-08-22_00:00:00",
         "471450"
        ],
        [
         "35",
         "8,06",
         "45,55",
         "2024-08-22_00:00:00",
         "470745"
        ],
        [
         "36",
         "8,46",
         "86,77",
         "2024-08-22_00:00:00",
         "471446"
        ],
        [
         "37",
         "596,31",
         "86,3",
         "2024-08-21_00:00:00",
         "470203"
        ],
        [
         "38",
         "421,21",
         "65,77",
         "2024-08-21_00:00:00",
         "470204"
        ],
        [
         "39",
         "351,13",
         "64,39",
         "2024-08-21_00:00:00",
         "470088"
        ],
        [
         "40",
         "171,6",
         "49,67",
         "2024-08-21_00:00:00",
         "470004"
        ],
        [
         "41",
         "122,07",
         "48,48",
         "2024-08-21_00:00:00",
         "470454"
        ],
        [
         "42",
         "88,33",
         "28,4",
         "2024-08-21_00:00:00",
         "529494"
        ],
        [
         "43",
         "144,21",
         "55,51",
         "2024-08-19_00:00:00",
         "468905"
        ],
        [
         "44",
         "68,22",
         "17,46",
         "2024-08-19_00:00:00",
         "468978"
        ],
        [
         "45",
         "56,23",
         "21,44",
         "2024-08-19_00:00:00",
         "468902"
        ],
        [
         "46",
         "39,68",
         "64,87",
         "2024-08-18_00:00:00",
         "469642"
        ],
        [
         "47",
         "33,48",
         "32,65",
         "2024-08-18_00:00:00",
         "468441"
        ],
        [
         "48",
         "28,56",
         "43,75",
         "2024-08-18_00:00:00",
         "468509"
        ],
        [
         "49",
         "11,73",
         "40,33",
         "2024-08-18_00:00:00",
         "470532"
        ]
       ],
       "shape": {
        "columns": 4,
        "rows": 2372
       }
      },
      "text/html": [
       "<div>\n",
       "<style scoped>\n",
       "    .dataframe tbody tr th:only-of-type {\n",
       "        vertical-align: middle;\n",
       "    }\n",
       "\n",
       "    .dataframe tbody tr th {\n",
       "        vertical-align: top;\n",
       "    }\n",
       "\n",
       "    .dataframe thead th {\n",
       "        text-align: right;\n",
       "    }\n",
       "</style>\n",
       "<table border=\"1\" class=\"dataframe\">\n",
       "  <thead>\n",
       "    <tr style=\"text-align: right;\">\n",
       "      <th></th>\n",
       "      <th>Distance</th>\n",
       "      <th>Speed</th>\n",
       "      <th>Date</th>\n",
       "      <th>ID</th>\n",
       "    </tr>\n",
       "  </thead>\n",
       "  <tbody>\n",
       "    <tr>\n",
       "      <th>0</th>\n",
       "      <td>101,43</td>\n",
       "      <td>47,36</td>\n",
       "      <td>2024-09-28_00:00:00</td>\n",
       "      <td>484226</td>\n",
       "    </tr>\n",
       "    <tr>\n",
       "      <th>1</th>\n",
       "      <td>74,69</td>\n",
       "      <td>46,43</td>\n",
       "      <td>2024-09-28_00:00:00</td>\n",
       "      <td>484337</td>\n",
       "    </tr>\n",
       "    <tr>\n",
       "      <th>2</th>\n",
       "      <td>146,57</td>\n",
       "      <td>63,82</td>\n",
       "      <td>2024-09-19_00:00:00</td>\n",
       "      <td>481932</td>\n",
       "    </tr>\n",
       "    <tr>\n",
       "      <th>3</th>\n",
       "      <td>50,21</td>\n",
       "      <td>21,17</td>\n",
       "      <td>2024-09-14_00:00:00</td>\n",
       "      <td>480764</td>\n",
       "    </tr>\n",
       "    <tr>\n",
       "      <th>4</th>\n",
       "      <td>58,7</td>\n",
       "      <td>40,58</td>\n",
       "      <td>2024-09-14_00:00:00</td>\n",
       "      <td>480668</td>\n",
       "    </tr>\n",
       "    <tr>\n",
       "      <th>...</th>\n",
       "      <td>...</td>\n",
       "      <td>...</td>\n",
       "      <td>...</td>\n",
       "      <td>...</td>\n",
       "    </tr>\n",
       "    <tr>\n",
       "      <th>2367</th>\n",
       "      <td>515,44</td>\n",
       "      <td>72,64</td>\n",
       "      <td>2018-06-29_00:00:00</td>\n",
       "      <td>64020</td>\n",
       "    </tr>\n",
       "    <tr>\n",
       "      <th>2368</th>\n",
       "      <td>586,99</td>\n",
       "      <td>79,35</td>\n",
       "      <td>2018-06-13_00:00:00</td>\n",
       "      <td>64021</td>\n",
       "    </tr>\n",
       "    <tr>\n",
       "      <th>2369</th>\n",
       "      <td>427,95</td>\n",
       "      <td>83,67</td>\n",
       "      <td>2018-05-16_00:00:00</td>\n",
       "      <td>64022</td>\n",
       "    </tr>\n",
       "    <tr>\n",
       "      <th>2370</th>\n",
       "      <td>625,42</td>\n",
       "      <td>75,29</td>\n",
       "      <td>2018-05-13_00:00:00</td>\n",
       "      <td>64023</td>\n",
       "    </tr>\n",
       "    <tr>\n",
       "      <th>2371</th>\n",
       "      <td>851,17</td>\n",
       "      <td>104,99</td>\n",
       "      <td>2018-05-10_00:00:00</td>\n",
       "      <td>63990</td>\n",
       "    </tr>\n",
       "  </tbody>\n",
       "</table>\n",
       "<p>2372 rows × 4 columns</p>\n",
       "</div>"
      ],
      "text/plain": [
       "     Distance   Speed                 Date      ID\n",
       "0      101,43   47,36  2024-09-28_00:00:00  484226\n",
       "1       74,69   46,43  2024-09-28_00:00:00  484337\n",
       "2      146,57   63,82  2024-09-19_00:00:00  481932\n",
       "3       50,21   21,17  2024-09-14_00:00:00  480764\n",
       "4        58,7   40,58  2024-09-14_00:00:00  480668\n",
       "...       ...     ...                  ...     ...\n",
       "2367   515,44   72,64  2018-06-29_00:00:00   64020\n",
       "2368   586,99   79,35  2018-06-13_00:00:00   64021\n",
       "2369   427,95   83,67  2018-05-16_00:00:00   64022\n",
       "2370   625,42   75,29  2018-05-13_00:00:00   64023\n",
       "2371   851,17  104,99  2018-05-10_00:00:00   63990\n",
       "\n",
       "[2372 rows x 4 columns]"
      ]
     },
     "execution_count": 93,
     "metadata": {},
     "output_type": "execute_result"
    }
   ],
   "source": [
    "flights = labels.fetch_flights()\n",
    "labels.normalize_date(flights)"
   ]
  },
  {
   "cell_type": "code",
   "execution_count": 103,
   "id": "254ea086",
   "metadata": {},
   "outputs": [],
   "source": [
    "flights_per_day = labels.is_flyable(flights)\n",
    "final = labels.final_data(flights_per_day)\n",
    "labels.normalize_date(final)\n",
    "final.to_csv('/Users/baptistecaillerie/Documents/Soaring AI/data/flights.csv', index=False)"
   ]
  }
 ],
 "metadata": {
  "kernelspec": {
   "display_name": ".venv",
   "language": "python",
   "name": "python3"
  },
  "language_info": {
   "codemirror_mode": {
    "name": "ipython",
    "version": 3
   },
   "file_extension": ".py",
   "mimetype": "text/x-python",
   "name": "python",
   "nbconvert_exporter": "python",
   "pygments_lexer": "ipython3",
   "version": "3.11.11"
  }
 },
 "nbformat": 4,
 "nbformat_minor": 5
}
